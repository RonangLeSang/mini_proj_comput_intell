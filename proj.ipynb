{
 "cells": [
  {
   "cell_type": "code",
   "execution_count": 129,
   "id": "initial_id",
   "metadata": {
    "collapsed": true,
    "ExecuteTime": {
     "end_time": "2024-10-29T14:14:14.728401600Z",
     "start_time": "2024-10-29T14:14:14.655800100Z"
    }
   },
   "outputs": [],
   "source": [
    "import pandas as pd"
   ]
  },
  {
   "cell_type": "code",
   "execution_count": 130,
   "outputs": [],
   "source": [
    "path = \"resources/AccidentsBig.csv\""
   ],
   "metadata": {
    "collapsed": false,
    "ExecuteTime": {
     "end_time": "2024-10-29T14:14:14.730446700Z",
     "start_time": "2024-10-29T14:14:14.661810900Z"
    }
   },
   "id": "7955f9cae7d2a101"
  },
  {
   "cell_type": "code",
   "execution_count": 131,
   "outputs": [
    {
     "name": "stderr",
     "output_type": "stream",
     "text": [
      "C:\\Users\\ronan\\AppData\\Local\\Temp\\ipykernel_644\\3015784815.py:1: DtypeWarning: Columns (8,10,28,29) have mixed types. Specify dtype option on import or set low_memory=False.\n",
      "  data = pd.read_csv(path)\n"
     ]
    },
    {
     "data": {
      "text/plain": "   Accident_Index  longitude   latitude  Police_Force  Accident_Severity  \\\n0             1.0  78.610393  14.724026           1.0                2.0   \n1             2.0  78.534042  14.762353           1.0                3.0   \n2             3.0  78.470877  14.745606           1.0                3.0   \n3             4.0  78.557994  14.667128           1.0                3.0   \n4             5.0  78.576431  14.703443           1.0                3.0   \n\n   Number_of_Vehicles  Number_of_Casualties  Day_of_Week   Time  \\\n0                 1.0                   1.0          3.0  17:42   \n1                 1.0                   1.0          4.0  17:36   \n2                 2.0                   1.0          5.0  00:15   \n3                 1.0                   1.0          6.0  10:35   \n4                 1.0                   1.0          2.0  21:13   \n\n   Local_Authority_(District)  ... Pedestrian_Crossing-Physical_Facilities  \\\n0                        12.0  ...                                     1.0   \n1                        12.0  ...                                     5.0   \n2                        12.0  ...                                     0.0   \n3                        12.0  ...                                     0.0   \n4                        12.0  ...                                     0.0   \n\n   Light_Conditions  Weather_Conditions  Road_Surface_Conditions  \\\n0               1.0                 2.0                      2.0   \n1               4.0                 1.0                      1.0   \n2               4.0                 1.0                      1.0   \n3               1.0                 1.0                      1.0   \n4               7.0                 1.0                      2.0   \n\n   Special_Conditions_at_Site  Carriageway_Hazards  Urban_or_Rural_Area  \\\n0                         0.0                  0.0                  1.0   \n1                         0.0                  0.0                  1.0   \n2                         0.0                  0.0                  1.0   \n3                         0.0                  0.0                  1.0   \n4                         0.0                  0.0                  1.0   \n\n   Did_Police_Officer_Attend_Scene_of_Accident  LSOA_of_Accident_Location  \\\n0                                          1.0                  E01002849   \n1                                          1.0                  E01002909   \n2                                          1.0                  E01002857   \n3                                          1.0                  E01002840   \n4                                          1.0                  E01002863   \n\n         Date  \n0  04-01-2018  \n1  05-01-2018  \n2  06-01-2018  \n3  07-01-2018  \n4  10-01-2018  \n\n[5 rows x 30 columns]",
      "text/html": "<div>\n<style scoped>\n    .dataframe tbody tr th:only-of-type {\n        vertical-align: middle;\n    }\n\n    .dataframe tbody tr th {\n        vertical-align: top;\n    }\n\n    .dataframe thead th {\n        text-align: right;\n    }\n</style>\n<table border=\"1\" class=\"dataframe\">\n  <thead>\n    <tr style=\"text-align: right;\">\n      <th></th>\n      <th>Accident_Index</th>\n      <th>longitude</th>\n      <th>latitude</th>\n      <th>Police_Force</th>\n      <th>Accident_Severity</th>\n      <th>Number_of_Vehicles</th>\n      <th>Number_of_Casualties</th>\n      <th>Day_of_Week</th>\n      <th>Time</th>\n      <th>Local_Authority_(District)</th>\n      <th>...</th>\n      <th>Pedestrian_Crossing-Physical_Facilities</th>\n      <th>Light_Conditions</th>\n      <th>Weather_Conditions</th>\n      <th>Road_Surface_Conditions</th>\n      <th>Special_Conditions_at_Site</th>\n      <th>Carriageway_Hazards</th>\n      <th>Urban_or_Rural_Area</th>\n      <th>Did_Police_Officer_Attend_Scene_of_Accident</th>\n      <th>LSOA_of_Accident_Location</th>\n      <th>Date</th>\n    </tr>\n  </thead>\n  <tbody>\n    <tr>\n      <th>0</th>\n      <td>1.0</td>\n      <td>78.610393</td>\n      <td>14.724026</td>\n      <td>1.0</td>\n      <td>2.0</td>\n      <td>1.0</td>\n      <td>1.0</td>\n      <td>3.0</td>\n      <td>17:42</td>\n      <td>12.0</td>\n      <td>...</td>\n      <td>1.0</td>\n      <td>1.0</td>\n      <td>2.0</td>\n      <td>2.0</td>\n      <td>0.0</td>\n      <td>0.0</td>\n      <td>1.0</td>\n      <td>1.0</td>\n      <td>E01002849</td>\n      <td>04-01-2018</td>\n    </tr>\n    <tr>\n      <th>1</th>\n      <td>2.0</td>\n      <td>78.534042</td>\n      <td>14.762353</td>\n      <td>1.0</td>\n      <td>3.0</td>\n      <td>1.0</td>\n      <td>1.0</td>\n      <td>4.0</td>\n      <td>17:36</td>\n      <td>12.0</td>\n      <td>...</td>\n      <td>5.0</td>\n      <td>4.0</td>\n      <td>1.0</td>\n      <td>1.0</td>\n      <td>0.0</td>\n      <td>0.0</td>\n      <td>1.0</td>\n      <td>1.0</td>\n      <td>E01002909</td>\n      <td>05-01-2018</td>\n    </tr>\n    <tr>\n      <th>2</th>\n      <td>3.0</td>\n      <td>78.470877</td>\n      <td>14.745606</td>\n      <td>1.0</td>\n      <td>3.0</td>\n      <td>2.0</td>\n      <td>1.0</td>\n      <td>5.0</td>\n      <td>00:15</td>\n      <td>12.0</td>\n      <td>...</td>\n      <td>0.0</td>\n      <td>4.0</td>\n      <td>1.0</td>\n      <td>1.0</td>\n      <td>0.0</td>\n      <td>0.0</td>\n      <td>1.0</td>\n      <td>1.0</td>\n      <td>E01002857</td>\n      <td>06-01-2018</td>\n    </tr>\n    <tr>\n      <th>3</th>\n      <td>4.0</td>\n      <td>78.557994</td>\n      <td>14.667128</td>\n      <td>1.0</td>\n      <td>3.0</td>\n      <td>1.0</td>\n      <td>1.0</td>\n      <td>6.0</td>\n      <td>10:35</td>\n      <td>12.0</td>\n      <td>...</td>\n      <td>0.0</td>\n      <td>1.0</td>\n      <td>1.0</td>\n      <td>1.0</td>\n      <td>0.0</td>\n      <td>0.0</td>\n      <td>1.0</td>\n      <td>1.0</td>\n      <td>E01002840</td>\n      <td>07-01-2018</td>\n    </tr>\n    <tr>\n      <th>4</th>\n      <td>5.0</td>\n      <td>78.576431</td>\n      <td>14.703443</td>\n      <td>1.0</td>\n      <td>3.0</td>\n      <td>1.0</td>\n      <td>1.0</td>\n      <td>2.0</td>\n      <td>21:13</td>\n      <td>12.0</td>\n      <td>...</td>\n      <td>0.0</td>\n      <td>7.0</td>\n      <td>1.0</td>\n      <td>2.0</td>\n      <td>0.0</td>\n      <td>0.0</td>\n      <td>1.0</td>\n      <td>1.0</td>\n      <td>E01002863</td>\n      <td>10-01-2018</td>\n    </tr>\n  </tbody>\n</table>\n<p>5 rows × 30 columns</p>\n</div>"
     },
     "execution_count": 131,
     "metadata": {},
     "output_type": "execute_result"
    }
   ],
   "source": [
    "data = pd.read_csv(path)\n",
    "data.head()"
   ],
   "metadata": {
    "collapsed": false,
    "ExecuteTime": {
     "end_time": "2024-10-29T14:14:17.169077800Z",
     "start_time": "2024-10-29T14:14:14.670863800Z"
    }
   },
   "id": "298328c5845da9b6"
  },
  {
   "cell_type": "code",
   "execution_count": 132,
   "outputs": [
    {
     "data": {
      "text/plain": "       Accident_Index     longitude      latitude  Police_Force  \\\ncount    59998.000000  59998.000000  59998.000000  59998.000000   \nmean     29999.500000     78.098483     22.083749      4.304360   \nstd      17320.075062      5.949539      5.655470      4.569113   \nmin          1.000000     69.015103      8.864429      1.000000   \n25%      15000.250000     73.895816     18.555476      1.000000   \n50%      29999.500000     77.050768     22.732800      4.000000   \n75%      44998.750000     78.544677     27.091517      6.000000   \nmax      59998.000000     94.231931     31.068800     48.000000   \n\n       Accident_Severity  Number_of_Vehicles  Number_of_Casualties  \\\ncount       59998.000000        59998.000000          59998.000000   \nmean            2.855512            1.832028              1.320761   \nstd             0.380983            0.692804              0.762099   \nmin             1.000000            1.000000              1.000000   \n25%             3.000000            1.000000              1.000000   \n50%             3.000000            2.000000              1.000000   \n75%             3.000000            2.000000              1.000000   \nmax             3.000000           18.000000             23.000000   \n\n        Day_of_Week  Local_Authority_(District)  1st_Road_Class  ...  \\\ncount  59998.000000                59998.000000    59998.000000  ...   \nmean       4.124637                   71.151072        3.982183  ...   \nstd        1.923690                   63.827188        1.360867  ...   \nmin        1.000000                    1.000000        1.000000  ...   \n25%        3.000000                   18.000000        3.000000  ...   \n50%        4.000000                   73.000000        3.000000  ...   \n75%        6.000000                  107.000000        5.000000  ...   \nmax        7.000000                  570.000000        6.000000  ...   \n\n       2nd_Road_Number  Pedestrian_Crossing-Human_Control  \\\ncount     59998.000000                       59998.000000   \nmean        330.956232                           0.006184   \nstd        1185.561831                           0.102529   \nmin          -1.000000                          -1.000000   \n25%           0.000000                           0.000000   \n50%           0.000000                           0.000000   \n75%           0.000000                           0.000000   \nmax        9711.000000                           2.000000   \n\n       Pedestrian_Crossing-Physical_Facilities  Light_Conditions  \\\ncount                             59998.000000      59998.000000   \nmean                                  0.856262          1.902713   \nstd                                   1.896282          1.486875   \nmin                                  -1.000000          1.000000   \n25%                                   0.000000          1.000000   \n50%                                   0.000000          1.000000   \n75%                                   0.000000          4.000000   \nmax                                   8.000000          7.000000   \n\n       Weather_Conditions  Road_Surface_Conditions  \\\ncount        59998.000000             59998.000000   \nmean             1.386846                 1.298377   \nstd              1.267965                 0.541992   \nmin              1.000000                -1.000000   \n25%              1.000000                 1.000000   \n50%              1.000000                 1.000000   \n75%              1.000000                 2.000000   \nmax              9.000000                 5.000000   \n\n       Special_Conditions_at_Site  Carriageway_Hazards  Urban_or_Rural_Area  \\\ncount                59998.000000         59998.000000         59998.000000   \nmean                     0.089236             0.048035             1.185356   \nstd                      0.644405             0.481461             0.389618   \nmin                     -1.000000            -1.000000             1.000000   \n25%                      0.000000             0.000000             1.000000   \n50%                      0.000000             0.000000             1.000000   \n75%                      0.000000             0.000000             1.000000   \nmax                      7.000000             7.000000             3.000000   \n\n       Did_Police_Officer_Attend_Scene_of_Accident  \ncount                                 59998.000000  \nmean                                      1.198573  \nstd                                       0.439712  \nmin                                      -1.000000  \n25%                                       1.000000  \n50%                                       1.000000  \n75%                                       1.000000  \nmax                                       3.000000  \n\n[8 rows x 26 columns]",
      "text/html": "<div>\n<style scoped>\n    .dataframe tbody tr th:only-of-type {\n        vertical-align: middle;\n    }\n\n    .dataframe tbody tr th {\n        vertical-align: top;\n    }\n\n    .dataframe thead th {\n        text-align: right;\n    }\n</style>\n<table border=\"1\" class=\"dataframe\">\n  <thead>\n    <tr style=\"text-align: right;\">\n      <th></th>\n      <th>Accident_Index</th>\n      <th>longitude</th>\n      <th>latitude</th>\n      <th>Police_Force</th>\n      <th>Accident_Severity</th>\n      <th>Number_of_Vehicles</th>\n      <th>Number_of_Casualties</th>\n      <th>Day_of_Week</th>\n      <th>Local_Authority_(District)</th>\n      <th>1st_Road_Class</th>\n      <th>...</th>\n      <th>2nd_Road_Number</th>\n      <th>Pedestrian_Crossing-Human_Control</th>\n      <th>Pedestrian_Crossing-Physical_Facilities</th>\n      <th>Light_Conditions</th>\n      <th>Weather_Conditions</th>\n      <th>Road_Surface_Conditions</th>\n      <th>Special_Conditions_at_Site</th>\n      <th>Carriageway_Hazards</th>\n      <th>Urban_or_Rural_Area</th>\n      <th>Did_Police_Officer_Attend_Scene_of_Accident</th>\n    </tr>\n  </thead>\n  <tbody>\n    <tr>\n      <th>count</th>\n      <td>59998.000000</td>\n      <td>59998.000000</td>\n      <td>59998.000000</td>\n      <td>59998.000000</td>\n      <td>59998.000000</td>\n      <td>59998.000000</td>\n      <td>59998.000000</td>\n      <td>59998.000000</td>\n      <td>59998.000000</td>\n      <td>59998.000000</td>\n      <td>...</td>\n      <td>59998.000000</td>\n      <td>59998.000000</td>\n      <td>59998.000000</td>\n      <td>59998.000000</td>\n      <td>59998.000000</td>\n      <td>59998.000000</td>\n      <td>59998.000000</td>\n      <td>59998.000000</td>\n      <td>59998.000000</td>\n      <td>59998.000000</td>\n    </tr>\n    <tr>\n      <th>mean</th>\n      <td>29999.500000</td>\n      <td>78.098483</td>\n      <td>22.083749</td>\n      <td>4.304360</td>\n      <td>2.855512</td>\n      <td>1.832028</td>\n      <td>1.320761</td>\n      <td>4.124637</td>\n      <td>71.151072</td>\n      <td>3.982183</td>\n      <td>...</td>\n      <td>330.956232</td>\n      <td>0.006184</td>\n      <td>0.856262</td>\n      <td>1.902713</td>\n      <td>1.386846</td>\n      <td>1.298377</td>\n      <td>0.089236</td>\n      <td>0.048035</td>\n      <td>1.185356</td>\n      <td>1.198573</td>\n    </tr>\n    <tr>\n      <th>std</th>\n      <td>17320.075062</td>\n      <td>5.949539</td>\n      <td>5.655470</td>\n      <td>4.569113</td>\n      <td>0.380983</td>\n      <td>0.692804</td>\n      <td>0.762099</td>\n      <td>1.923690</td>\n      <td>63.827188</td>\n      <td>1.360867</td>\n      <td>...</td>\n      <td>1185.561831</td>\n      <td>0.102529</td>\n      <td>1.896282</td>\n      <td>1.486875</td>\n      <td>1.267965</td>\n      <td>0.541992</td>\n      <td>0.644405</td>\n      <td>0.481461</td>\n      <td>0.389618</td>\n      <td>0.439712</td>\n    </tr>\n    <tr>\n      <th>min</th>\n      <td>1.000000</td>\n      <td>69.015103</td>\n      <td>8.864429</td>\n      <td>1.000000</td>\n      <td>1.000000</td>\n      <td>1.000000</td>\n      <td>1.000000</td>\n      <td>1.000000</td>\n      <td>1.000000</td>\n      <td>1.000000</td>\n      <td>...</td>\n      <td>-1.000000</td>\n      <td>-1.000000</td>\n      <td>-1.000000</td>\n      <td>1.000000</td>\n      <td>1.000000</td>\n      <td>-1.000000</td>\n      <td>-1.000000</td>\n      <td>-1.000000</td>\n      <td>1.000000</td>\n      <td>-1.000000</td>\n    </tr>\n    <tr>\n      <th>25%</th>\n      <td>15000.250000</td>\n      <td>73.895816</td>\n      <td>18.555476</td>\n      <td>1.000000</td>\n      <td>3.000000</td>\n      <td>1.000000</td>\n      <td>1.000000</td>\n      <td>3.000000</td>\n      <td>18.000000</td>\n      <td>3.000000</td>\n      <td>...</td>\n      <td>0.000000</td>\n      <td>0.000000</td>\n      <td>0.000000</td>\n      <td>1.000000</td>\n      <td>1.000000</td>\n      <td>1.000000</td>\n      <td>0.000000</td>\n      <td>0.000000</td>\n      <td>1.000000</td>\n      <td>1.000000</td>\n    </tr>\n    <tr>\n      <th>50%</th>\n      <td>29999.500000</td>\n      <td>77.050768</td>\n      <td>22.732800</td>\n      <td>4.000000</td>\n      <td>3.000000</td>\n      <td>2.000000</td>\n      <td>1.000000</td>\n      <td>4.000000</td>\n      <td>73.000000</td>\n      <td>3.000000</td>\n      <td>...</td>\n      <td>0.000000</td>\n      <td>0.000000</td>\n      <td>0.000000</td>\n      <td>1.000000</td>\n      <td>1.000000</td>\n      <td>1.000000</td>\n      <td>0.000000</td>\n      <td>0.000000</td>\n      <td>1.000000</td>\n      <td>1.000000</td>\n    </tr>\n    <tr>\n      <th>75%</th>\n      <td>44998.750000</td>\n      <td>78.544677</td>\n      <td>27.091517</td>\n      <td>6.000000</td>\n      <td>3.000000</td>\n      <td>2.000000</td>\n      <td>1.000000</td>\n      <td>6.000000</td>\n      <td>107.000000</td>\n      <td>5.000000</td>\n      <td>...</td>\n      <td>0.000000</td>\n      <td>0.000000</td>\n      <td>0.000000</td>\n      <td>4.000000</td>\n      <td>1.000000</td>\n      <td>2.000000</td>\n      <td>0.000000</td>\n      <td>0.000000</td>\n      <td>1.000000</td>\n      <td>1.000000</td>\n    </tr>\n    <tr>\n      <th>max</th>\n      <td>59998.000000</td>\n      <td>94.231931</td>\n      <td>31.068800</td>\n      <td>48.000000</td>\n      <td>3.000000</td>\n      <td>18.000000</td>\n      <td>23.000000</td>\n      <td>7.000000</td>\n      <td>570.000000</td>\n      <td>6.000000</td>\n      <td>...</td>\n      <td>9711.000000</td>\n      <td>2.000000</td>\n      <td>8.000000</td>\n      <td>7.000000</td>\n      <td>9.000000</td>\n      <td>5.000000</td>\n      <td>7.000000</td>\n      <td>7.000000</td>\n      <td>3.000000</td>\n      <td>3.000000</td>\n    </tr>\n  </tbody>\n</table>\n<p>8 rows × 26 columns</p>\n</div>"
     },
     "execution_count": 132,
     "metadata": {},
     "output_type": "execute_result"
    }
   ],
   "source": [
    "data.describe()"
   ],
   "metadata": {
    "collapsed": false,
    "ExecuteTime": {
     "end_time": "2024-10-29T14:14:19.199753900Z",
     "start_time": "2024-10-29T14:14:17.176609600Z"
    }
   },
   "id": "24ac7e273d6815da"
  },
  {
   "cell_type": "code",
   "execution_count": 133,
   "outputs": [
    {
     "data": {
      "text/plain": "   longitude   latitude  Police_Force  Accident_Severity  Day_of_Week  \\\n0  78.610393  14.724026           1.0                2.0          3.0   \n1  78.534042  14.762353           1.0                3.0          4.0   \n2  78.470877  14.745606           1.0                3.0          5.0   \n3  78.557994  14.667128           1.0                3.0          6.0   \n4  78.576431  14.703443           1.0                3.0          2.0   \n\n   1st_Road_Class  1st_Road_Number  Road_Type  Speed_limit  Junction_Detail  \\\n0             3.0           3218.0        6.0         30.0              0.0   \n1             4.0            450.0        3.0         30.0              6.0   \n2             5.0              0.0        6.0         30.0              0.0   \n3             3.0           3220.0        6.0         30.0              0.0   \n4             6.0              0.0        6.0         30.0              0.0   \n\n   ...  2nd_Road_Number  Pedestrian_Crossing-Human_Control  \\\n0  ...              0.0                                0.0   \n1  ...              0.0                                0.0   \n2  ...              0.0                                0.0   \n3  ...              0.0                                0.0   \n4  ...              0.0                                0.0   \n\n   Pedestrian_Crossing-Physical_Facilities  Light_Conditions  \\\n0                                      1.0               1.0   \n1                                      5.0               4.0   \n2                                      0.0               4.0   \n3                                      0.0               1.0   \n4                                      0.0               7.0   \n\n   Weather_Conditions  Road_Surface_Conditions  Special_Conditions_at_Site  \\\n0                 2.0                      2.0                         0.0   \n1                 1.0                      1.0                         0.0   \n2                 1.0                      1.0                         0.0   \n3                 1.0                      1.0                         0.0   \n4                 1.0                      2.0                         0.0   \n\n   Carriageway_Hazards  Urban_or_Rural_Area  hour  \n0                  0.0                  1.0  17.0  \n1                  0.0                  1.0  17.0  \n2                  0.0                  1.0   0.0  \n3                  0.0                  1.0  10.0  \n4                  0.0                  1.0  21.0  \n\n[5 rows x 22 columns]",
      "text/html": "<div>\n<style scoped>\n    .dataframe tbody tr th:only-of-type {\n        vertical-align: middle;\n    }\n\n    .dataframe tbody tr th {\n        vertical-align: top;\n    }\n\n    .dataframe thead th {\n        text-align: right;\n    }\n</style>\n<table border=\"1\" class=\"dataframe\">\n  <thead>\n    <tr style=\"text-align: right;\">\n      <th></th>\n      <th>longitude</th>\n      <th>latitude</th>\n      <th>Police_Force</th>\n      <th>Accident_Severity</th>\n      <th>Day_of_Week</th>\n      <th>1st_Road_Class</th>\n      <th>1st_Road_Number</th>\n      <th>Road_Type</th>\n      <th>Speed_limit</th>\n      <th>Junction_Detail</th>\n      <th>...</th>\n      <th>2nd_Road_Number</th>\n      <th>Pedestrian_Crossing-Human_Control</th>\n      <th>Pedestrian_Crossing-Physical_Facilities</th>\n      <th>Light_Conditions</th>\n      <th>Weather_Conditions</th>\n      <th>Road_Surface_Conditions</th>\n      <th>Special_Conditions_at_Site</th>\n      <th>Carriageway_Hazards</th>\n      <th>Urban_or_Rural_Area</th>\n      <th>hour</th>\n    </tr>\n  </thead>\n  <tbody>\n    <tr>\n      <th>0</th>\n      <td>78.610393</td>\n      <td>14.724026</td>\n      <td>1.0</td>\n      <td>2.0</td>\n      <td>3.0</td>\n      <td>3.0</td>\n      <td>3218.0</td>\n      <td>6.0</td>\n      <td>30.0</td>\n      <td>0.0</td>\n      <td>...</td>\n      <td>0.0</td>\n      <td>0.0</td>\n      <td>1.0</td>\n      <td>1.0</td>\n      <td>2.0</td>\n      <td>2.0</td>\n      <td>0.0</td>\n      <td>0.0</td>\n      <td>1.0</td>\n      <td>17.0</td>\n    </tr>\n    <tr>\n      <th>1</th>\n      <td>78.534042</td>\n      <td>14.762353</td>\n      <td>1.0</td>\n      <td>3.0</td>\n      <td>4.0</td>\n      <td>4.0</td>\n      <td>450.0</td>\n      <td>3.0</td>\n      <td>30.0</td>\n      <td>6.0</td>\n      <td>...</td>\n      <td>0.0</td>\n      <td>0.0</td>\n      <td>5.0</td>\n      <td>4.0</td>\n      <td>1.0</td>\n      <td>1.0</td>\n      <td>0.0</td>\n      <td>0.0</td>\n      <td>1.0</td>\n      <td>17.0</td>\n    </tr>\n    <tr>\n      <th>2</th>\n      <td>78.470877</td>\n      <td>14.745606</td>\n      <td>1.0</td>\n      <td>3.0</td>\n      <td>5.0</td>\n      <td>5.0</td>\n      <td>0.0</td>\n      <td>6.0</td>\n      <td>30.0</td>\n      <td>0.0</td>\n      <td>...</td>\n      <td>0.0</td>\n      <td>0.0</td>\n      <td>0.0</td>\n      <td>4.0</td>\n      <td>1.0</td>\n      <td>1.0</td>\n      <td>0.0</td>\n      <td>0.0</td>\n      <td>1.0</td>\n      <td>0.0</td>\n    </tr>\n    <tr>\n      <th>3</th>\n      <td>78.557994</td>\n      <td>14.667128</td>\n      <td>1.0</td>\n      <td>3.0</td>\n      <td>6.0</td>\n      <td>3.0</td>\n      <td>3220.0</td>\n      <td>6.0</td>\n      <td>30.0</td>\n      <td>0.0</td>\n      <td>...</td>\n      <td>0.0</td>\n      <td>0.0</td>\n      <td>0.0</td>\n      <td>1.0</td>\n      <td>1.0</td>\n      <td>1.0</td>\n      <td>0.0</td>\n      <td>0.0</td>\n      <td>1.0</td>\n      <td>10.0</td>\n    </tr>\n    <tr>\n      <th>4</th>\n      <td>78.576431</td>\n      <td>14.703443</td>\n      <td>1.0</td>\n      <td>3.0</td>\n      <td>2.0</td>\n      <td>6.0</td>\n      <td>0.0</td>\n      <td>6.0</td>\n      <td>30.0</td>\n      <td>0.0</td>\n      <td>...</td>\n      <td>0.0</td>\n      <td>0.0</td>\n      <td>0.0</td>\n      <td>7.0</td>\n      <td>1.0</td>\n      <td>2.0</td>\n      <td>0.0</td>\n      <td>0.0</td>\n      <td>1.0</td>\n      <td>21.0</td>\n    </tr>\n  </tbody>\n</table>\n<p>5 rows × 22 columns</p>\n</div>"
     },
     "execution_count": 133,
     "metadata": {},
     "output_type": "execute_result"
    }
   ],
   "source": [
    "data['hour'] = pd.to_datetime(data['Time'], format='%H:%M').dt.hour\n",
    "\n",
    "df = data.drop([\"LSOA_of_Accident_Location\", \"Did_Police_Officer_Attend_Scene_of_Accident\", \"Local_Authority_(District)\", \"Local_Authority_(Highway)\", \"Number_of_Casualties\", \"Number_of_Vehicles\", \"Date\", \"Accident_Index\", \"Time\"], axis=1)\n",
    "df = df.dropna()\n",
    "\n",
    "df.head()"
   ],
   "metadata": {
    "collapsed": false,
    "ExecuteTime": {
     "end_time": "2024-10-29T14:14:19.598687700Z",
     "start_time": "2024-10-29T14:14:19.178356900Z"
    }
   },
   "id": "162b02878b4833af"
  },
  {
   "cell_type": "code",
   "execution_count": 134,
   "outputs": [
    {
     "data": {
      "text/plain": "       longitude   latitude  Police_Force  Day_of_Week  1st_Road_Class  \\\n50106  73.754788  18.642927           7.0          7.0             6.0   \n9165   87.479100  25.791833           1.0          2.0             3.0   \n21394  77.586079  13.010667           1.0          1.0             3.0   \n54512  72.871326  19.121888          10.0          5.0             6.0   \n55434  72.895403  19.103832          10.0          4.0             4.0   \n\n       1st_Road_Number  Road_Type  Speed_limit  Junction_Detail  \\\n50106              0.0        6.0         60.0              0.0   \n9165             117.0        6.0         30.0              6.0   \n21394            308.0        6.0         30.0              0.0   \n54512           6701.0        6.0         30.0              3.0   \n55434           1321.0        6.0         40.0              0.0   \n\n       Junction_Control  ...  2nd_Road_Number  \\\n50106              -1.0  ...              0.0   \n9165                2.0  ...            117.0   \n21394              -1.0  ...              0.0   \n54512               4.0  ...           6701.0   \n55434              -1.0  ...              0.0   \n\n       Pedestrian_Crossing-Human_Control  \\\n50106                                0.0   \n9165                                 0.0   \n21394                                0.0   \n54512                                0.0   \n55434                                0.0   \n\n       Pedestrian_Crossing-Physical_Facilities  Light_Conditions  \\\n50106                                      0.0               6.0   \n9165                                       5.0               1.0   \n21394                                      0.0               1.0   \n54512                                      0.0               1.0   \n55434                                      0.0               1.0   \n\n       Weather_Conditions  Road_Surface_Conditions  \\\n50106                 1.0                      1.0   \n9165                  2.0                      2.0   \n21394                 1.0                      1.0   \n54512                 1.0                      2.0   \n55434                 1.0                      1.0   \n\n       Special_Conditions_at_Site  Carriageway_Hazards  Urban_or_Rural_Area  \\\n50106                         0.0                  0.0                  2.0   \n9165                          0.0                  0.0                  1.0   \n21394                         0.0                  0.0                  1.0   \n54512                         0.0                  0.0                  1.0   \n55434                         0.0                  0.0                  2.0   \n\n       hour  \n50106  23.0  \n9165   15.0  \n21394  13.0  \n54512   9.0  \n55434  18.0  \n\n[5 rows x 21 columns]",
      "text/html": "<div>\n<style scoped>\n    .dataframe tbody tr th:only-of-type {\n        vertical-align: middle;\n    }\n\n    .dataframe tbody tr th {\n        vertical-align: top;\n    }\n\n    .dataframe thead th {\n        text-align: right;\n    }\n</style>\n<table border=\"1\" class=\"dataframe\">\n  <thead>\n    <tr style=\"text-align: right;\">\n      <th></th>\n      <th>longitude</th>\n      <th>latitude</th>\n      <th>Police_Force</th>\n      <th>Day_of_Week</th>\n      <th>1st_Road_Class</th>\n      <th>1st_Road_Number</th>\n      <th>Road_Type</th>\n      <th>Speed_limit</th>\n      <th>Junction_Detail</th>\n      <th>Junction_Control</th>\n      <th>...</th>\n      <th>2nd_Road_Number</th>\n      <th>Pedestrian_Crossing-Human_Control</th>\n      <th>Pedestrian_Crossing-Physical_Facilities</th>\n      <th>Light_Conditions</th>\n      <th>Weather_Conditions</th>\n      <th>Road_Surface_Conditions</th>\n      <th>Special_Conditions_at_Site</th>\n      <th>Carriageway_Hazards</th>\n      <th>Urban_or_Rural_Area</th>\n      <th>hour</th>\n    </tr>\n  </thead>\n  <tbody>\n    <tr>\n      <th>50106</th>\n      <td>73.754788</td>\n      <td>18.642927</td>\n      <td>7.0</td>\n      <td>7.0</td>\n      <td>6.0</td>\n      <td>0.0</td>\n      <td>6.0</td>\n      <td>60.0</td>\n      <td>0.0</td>\n      <td>-1.0</td>\n      <td>...</td>\n      <td>0.0</td>\n      <td>0.0</td>\n      <td>0.0</td>\n      <td>6.0</td>\n      <td>1.0</td>\n      <td>1.0</td>\n      <td>0.0</td>\n      <td>0.0</td>\n      <td>2.0</td>\n      <td>23.0</td>\n    </tr>\n    <tr>\n      <th>9165</th>\n      <td>87.479100</td>\n      <td>25.791833</td>\n      <td>1.0</td>\n      <td>2.0</td>\n      <td>3.0</td>\n      <td>117.0</td>\n      <td>6.0</td>\n      <td>30.0</td>\n      <td>6.0</td>\n      <td>2.0</td>\n      <td>...</td>\n      <td>117.0</td>\n      <td>0.0</td>\n      <td>5.0</td>\n      <td>1.0</td>\n      <td>2.0</td>\n      <td>2.0</td>\n      <td>0.0</td>\n      <td>0.0</td>\n      <td>1.0</td>\n      <td>15.0</td>\n    </tr>\n    <tr>\n      <th>21394</th>\n      <td>77.586079</td>\n      <td>13.010667</td>\n      <td>1.0</td>\n      <td>1.0</td>\n      <td>3.0</td>\n      <td>308.0</td>\n      <td>6.0</td>\n      <td>30.0</td>\n      <td>0.0</td>\n      <td>-1.0</td>\n      <td>...</td>\n      <td>0.0</td>\n      <td>0.0</td>\n      <td>0.0</td>\n      <td>1.0</td>\n      <td>1.0</td>\n      <td>1.0</td>\n      <td>0.0</td>\n      <td>0.0</td>\n      <td>1.0</td>\n      <td>13.0</td>\n    </tr>\n    <tr>\n      <th>54512</th>\n      <td>72.871326</td>\n      <td>19.121888</td>\n      <td>10.0</td>\n      <td>5.0</td>\n      <td>6.0</td>\n      <td>6701.0</td>\n      <td>6.0</td>\n      <td>30.0</td>\n      <td>3.0</td>\n      <td>4.0</td>\n      <td>...</td>\n      <td>6701.0</td>\n      <td>0.0</td>\n      <td>0.0</td>\n      <td>1.0</td>\n      <td>1.0</td>\n      <td>2.0</td>\n      <td>0.0</td>\n      <td>0.0</td>\n      <td>1.0</td>\n      <td>9.0</td>\n    </tr>\n    <tr>\n      <th>55434</th>\n      <td>72.895403</td>\n      <td>19.103832</td>\n      <td>10.0</td>\n      <td>4.0</td>\n      <td>4.0</td>\n      <td>1321.0</td>\n      <td>6.0</td>\n      <td>40.0</td>\n      <td>0.0</td>\n      <td>-1.0</td>\n      <td>...</td>\n      <td>0.0</td>\n      <td>0.0</td>\n      <td>0.0</td>\n      <td>1.0</td>\n      <td>1.0</td>\n      <td>1.0</td>\n      <td>0.0</td>\n      <td>0.0</td>\n      <td>2.0</td>\n      <td>18.0</td>\n    </tr>\n  </tbody>\n</table>\n<p>5 rows × 21 columns</p>\n</div>"
     },
     "execution_count": 134,
     "metadata": {},
     "output_type": "execute_result"
    }
   ],
   "source": [
    "from sklearn.model_selection import train_test_split\n",
    "\n",
    "# Define X and y\n",
    "X = df.drop(\"Accident_Severity\", axis=1)\n",
    "Y = df[\"Accident_Severity\"]\n",
    "\n",
    "# Split the data\n",
    "X_train, X_test, y_train, y_test = train_test_split(X, Y, test_size=0.2, random_state=42)\n",
    "\n",
    "X_train.head()"
   ],
   "metadata": {
    "collapsed": false,
    "ExecuteTime": {
     "end_time": "2024-10-29T14:14:19.708574100Z",
     "start_time": "2024-10-29T14:14:19.575812900Z"
    }
   },
   "id": "7124a9878c0eab4d"
  },
  {
   "cell_type": "code",
   "execution_count": 135,
   "outputs": [
    {
     "name": "stdout",
     "output_type": "stream",
     "text": [
      "Accuracy: 0.8643333333333333\n",
      "\n",
      "Classification Report:\n",
      "               precision    recall  f1-score   support\n",
      "\n",
      "         1.0       0.00      0.00      0.00       141\n",
      "         2.0       0.27      0.01      0.02      1457\n",
      "         3.0       0.87      1.00      0.93     10402\n",
      "\n",
      "    accuracy                           0.86     12000\n",
      "   macro avg       0.38      0.34      0.32     12000\n",
      "weighted avg       0.79      0.86      0.81     12000\n"
     ]
    }
   ],
   "source": [
    "from sklearn.ensemble import RandomForestClassifier\n",
    "from sklearn.metrics import accuracy_score, classification_report\n",
    "\n",
    "clf = RandomForestClassifier(random_state=42)\n",
    "clf.fit(X_train, y_train)\n",
    "\n",
    "# Step 6: Make predictions\n",
    "y_pred = clf.predict(X_test)\n",
    "\n",
    "# Step 7: Evaluate the model\n",
    "accuracy = accuracy_score(y_test, y_pred)\n",
    "report = classification_report(y_test, y_pred)\n",
    "\n",
    "print(\"Accuracy:\", accuracy)\n",
    "print(\"\\nClassification Report:\\n\", report)"
   ],
   "metadata": {
    "collapsed": false,
    "ExecuteTime": {
     "end_time": "2024-10-29T14:14:30.282519300Z",
     "start_time": "2024-10-29T14:14:19.653005900Z"
    }
   },
   "id": "f460486e13b0b538"
  },
  {
   "cell_type": "code",
   "execution_count": 135,
   "outputs": [],
   "source": [],
   "metadata": {
    "collapsed": false,
    "ExecuteTime": {
     "end_time": "2024-10-29T14:14:30.282519300Z",
     "start_time": "2024-10-29T14:14:30.258311200Z"
    }
   },
   "id": "2f25e60d554ced11"
  },
  {
   "cell_type": "code",
   "execution_count": 135,
   "outputs": [],
   "source": [],
   "metadata": {
    "collapsed": false,
    "ExecuteTime": {
     "end_time": "2024-10-29T14:14:30.282519300Z",
     "start_time": "2024-10-29T14:14:30.264517900Z"
    }
   },
   "id": "aec03d09a7fb2195"
  }
 ],
 "metadata": {
  "kernelspec": {
   "display_name": "Python 3",
   "language": "python",
   "name": "python3"
  },
  "language_info": {
   "codemirror_mode": {
    "name": "ipython",
    "version": 2
   },
   "file_extension": ".py",
   "mimetype": "text/x-python",
   "name": "python",
   "nbconvert_exporter": "python",
   "pygments_lexer": "ipython2",
   "version": "2.7.6"
  }
 },
 "nbformat": 4,
 "nbformat_minor": 5
}
