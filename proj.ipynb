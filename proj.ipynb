{
 "cells": [
  {
   "cell_type": "code",
   "execution_count": 59,
   "id": "initial_id",
   "metadata": {
    "collapsed": true,
    "ExecuteTime": {
     "end_time": "2024-10-31T15:54:22.014679600Z",
     "start_time": "2024-10-31T15:54:21.882161300Z"
    }
   },
   "outputs": [],
   "source": [
    "import pandas as pd"
   ]
  },
  {
   "cell_type": "markdown",
   "source": [
    "# Data Analysis"
   ],
   "metadata": {
    "collapsed": false
   },
   "id": "2021123d169267a8"
  },
  {
   "cell_type": "code",
   "execution_count": 60,
   "outputs": [],
   "source": [
    "path = \"resources/AccidentsBig.csv\""
   ],
   "metadata": {
    "collapsed": false,
    "ExecuteTime": {
     "end_time": "2024-10-31T15:54:22.178315200Z",
     "start_time": "2024-10-31T15:54:21.888569800Z"
    }
   },
   "id": "7955f9cae7d2a101"
  },
  {
   "cell_type": "code",
   "execution_count": 61,
   "outputs": [
    {
     "name": "stderr",
     "output_type": "stream",
     "text": [
      "C:\\Users\\ronan\\AppData\\Local\\Temp\\ipykernel_9128\\3015784815.py:1: DtypeWarning: Columns (8,10,28,29) have mixed types. Specify dtype option on import or set low_memory=False.\n",
      "  data = pd.read_csv(path)\n"
     ]
    },
    {
     "data": {
      "text/plain": "   Accident_Index  longitude   latitude  Police_Force  Accident_Severity  \\\n0             1.0  78.610393  14.724026           1.0                2.0   \n1             2.0  78.534042  14.762353           1.0                3.0   \n2             3.0  78.470877  14.745606           1.0                3.0   \n3             4.0  78.557994  14.667128           1.0                3.0   \n4             5.0  78.576431  14.703443           1.0                3.0   \n\n   Number_of_Vehicles  Number_of_Casualties  Day_of_Week   Time  \\\n0                 1.0                   1.0          3.0  17:42   \n1                 1.0                   1.0          4.0  17:36   \n2                 2.0                   1.0          5.0  00:15   \n3                 1.0                   1.0          6.0  10:35   \n4                 1.0                   1.0          2.0  21:13   \n\n   Local_Authority_(District)  ... Pedestrian_Crossing-Physical_Facilities  \\\n0                        12.0  ...                                     1.0   \n1                        12.0  ...                                     5.0   \n2                        12.0  ...                                     0.0   \n3                        12.0  ...                                     0.0   \n4                        12.0  ...                                     0.0   \n\n   Light_Conditions  Weather_Conditions  Road_Surface_Conditions  \\\n0               1.0                 2.0                      2.0   \n1               4.0                 1.0                      1.0   \n2               4.0                 1.0                      1.0   \n3               1.0                 1.0                      1.0   \n4               7.0                 1.0                      2.0   \n\n   Special_Conditions_at_Site  Carriageway_Hazards  Urban_or_Rural_Area  \\\n0                         0.0                  0.0                  1.0   \n1                         0.0                  0.0                  1.0   \n2                         0.0                  0.0                  1.0   \n3                         0.0                  0.0                  1.0   \n4                         0.0                  0.0                  1.0   \n\n   Did_Police_Officer_Attend_Scene_of_Accident  LSOA_of_Accident_Location  \\\n0                                          1.0                  E01002849   \n1                                          1.0                  E01002909   \n2                                          1.0                  E01002857   \n3                                          1.0                  E01002840   \n4                                          1.0                  E01002863   \n\n         Date  \n0  04-01-2018  \n1  05-01-2018  \n2  06-01-2018  \n3  07-01-2018  \n4  10-01-2018  \n\n[5 rows x 30 columns]",
      "text/html": "<div>\n<style scoped>\n    .dataframe tbody tr th:only-of-type {\n        vertical-align: middle;\n    }\n\n    .dataframe tbody tr th {\n        vertical-align: top;\n    }\n\n    .dataframe thead th {\n        text-align: right;\n    }\n</style>\n<table border=\"1\" class=\"dataframe\">\n  <thead>\n    <tr style=\"text-align: right;\">\n      <th></th>\n      <th>Accident_Index</th>\n      <th>longitude</th>\n      <th>latitude</th>\n      <th>Police_Force</th>\n      <th>Accident_Severity</th>\n      <th>Number_of_Vehicles</th>\n      <th>Number_of_Casualties</th>\n      <th>Day_of_Week</th>\n      <th>Time</th>\n      <th>Local_Authority_(District)</th>\n      <th>...</th>\n      <th>Pedestrian_Crossing-Physical_Facilities</th>\n      <th>Light_Conditions</th>\n      <th>Weather_Conditions</th>\n      <th>Road_Surface_Conditions</th>\n      <th>Special_Conditions_at_Site</th>\n      <th>Carriageway_Hazards</th>\n      <th>Urban_or_Rural_Area</th>\n      <th>Did_Police_Officer_Attend_Scene_of_Accident</th>\n      <th>LSOA_of_Accident_Location</th>\n      <th>Date</th>\n    </tr>\n  </thead>\n  <tbody>\n    <tr>\n      <th>0</th>\n      <td>1.0</td>\n      <td>78.610393</td>\n      <td>14.724026</td>\n      <td>1.0</td>\n      <td>2.0</td>\n      <td>1.0</td>\n      <td>1.0</td>\n      <td>3.0</td>\n      <td>17:42</td>\n      <td>12.0</td>\n      <td>...</td>\n      <td>1.0</td>\n      <td>1.0</td>\n      <td>2.0</td>\n      <td>2.0</td>\n      <td>0.0</td>\n      <td>0.0</td>\n      <td>1.0</td>\n      <td>1.0</td>\n      <td>E01002849</td>\n      <td>04-01-2018</td>\n    </tr>\n    <tr>\n      <th>1</th>\n      <td>2.0</td>\n      <td>78.534042</td>\n      <td>14.762353</td>\n      <td>1.0</td>\n      <td>3.0</td>\n      <td>1.0</td>\n      <td>1.0</td>\n      <td>4.0</td>\n      <td>17:36</td>\n      <td>12.0</td>\n      <td>...</td>\n      <td>5.0</td>\n      <td>4.0</td>\n      <td>1.0</td>\n      <td>1.0</td>\n      <td>0.0</td>\n      <td>0.0</td>\n      <td>1.0</td>\n      <td>1.0</td>\n      <td>E01002909</td>\n      <td>05-01-2018</td>\n    </tr>\n    <tr>\n      <th>2</th>\n      <td>3.0</td>\n      <td>78.470877</td>\n      <td>14.745606</td>\n      <td>1.0</td>\n      <td>3.0</td>\n      <td>2.0</td>\n      <td>1.0</td>\n      <td>5.0</td>\n      <td>00:15</td>\n      <td>12.0</td>\n      <td>...</td>\n      <td>0.0</td>\n      <td>4.0</td>\n      <td>1.0</td>\n      <td>1.0</td>\n      <td>0.0</td>\n      <td>0.0</td>\n      <td>1.0</td>\n      <td>1.0</td>\n      <td>E01002857</td>\n      <td>06-01-2018</td>\n    </tr>\n    <tr>\n      <th>3</th>\n      <td>4.0</td>\n      <td>78.557994</td>\n      <td>14.667128</td>\n      <td>1.0</td>\n      <td>3.0</td>\n      <td>1.0</td>\n      <td>1.0</td>\n      <td>6.0</td>\n      <td>10:35</td>\n      <td>12.0</td>\n      <td>...</td>\n      <td>0.0</td>\n      <td>1.0</td>\n      <td>1.0</td>\n      <td>1.0</td>\n      <td>0.0</td>\n      <td>0.0</td>\n      <td>1.0</td>\n      <td>1.0</td>\n      <td>E01002840</td>\n      <td>07-01-2018</td>\n    </tr>\n    <tr>\n      <th>4</th>\n      <td>5.0</td>\n      <td>78.576431</td>\n      <td>14.703443</td>\n      <td>1.0</td>\n      <td>3.0</td>\n      <td>1.0</td>\n      <td>1.0</td>\n      <td>2.0</td>\n      <td>21:13</td>\n      <td>12.0</td>\n      <td>...</td>\n      <td>0.0</td>\n      <td>7.0</td>\n      <td>1.0</td>\n      <td>2.0</td>\n      <td>0.0</td>\n      <td>0.0</td>\n      <td>1.0</td>\n      <td>1.0</td>\n      <td>E01002863</td>\n      <td>10-01-2018</td>\n    </tr>\n  </tbody>\n</table>\n<p>5 rows × 30 columns</p>\n</div>"
     },
     "execution_count": 61,
     "metadata": {},
     "output_type": "execute_result"
    }
   ],
   "source": [
    "data = pd.read_csv(path)\n",
    "data.head()"
   ],
   "metadata": {
    "collapsed": false,
    "ExecuteTime": {
     "end_time": "2024-10-31T15:54:26.282589Z",
     "start_time": "2024-10-31T15:54:21.917749600Z"
    }
   },
   "id": "298328c5845da9b6"
  },
  {
   "cell_type": "code",
   "execution_count": 62,
   "outputs": [
    {
     "data": {
      "text/plain": "       Accident_Index     longitude      latitude  Police_Force  \\\ncount    59998.000000  59998.000000  59998.000000  59998.000000   \nmean     29999.500000     78.098483     22.083749      4.304360   \nstd      17320.075062      5.949539      5.655470      4.569113   \nmin          1.000000     69.015103      8.864429      1.000000   \n25%      15000.250000     73.895816     18.555476      1.000000   \n50%      29999.500000     77.050768     22.732800      4.000000   \n75%      44998.750000     78.544677     27.091517      6.000000   \nmax      59998.000000     94.231931     31.068800     48.000000   \n\n       Accident_Severity  Number_of_Vehicles  Number_of_Casualties  \\\ncount       59998.000000        59998.000000          59998.000000   \nmean            2.855512            1.832028              1.320761   \nstd             0.380983            0.692804              0.762099   \nmin             1.000000            1.000000              1.000000   \n25%             3.000000            1.000000              1.000000   \n50%             3.000000            2.000000              1.000000   \n75%             3.000000            2.000000              1.000000   \nmax             3.000000           18.000000             23.000000   \n\n        Day_of_Week  Local_Authority_(District)  1st_Road_Class  ...  \\\ncount  59998.000000                59998.000000    59998.000000  ...   \nmean       4.124637                   71.151072        3.982183  ...   \nstd        1.923690                   63.827188        1.360867  ...   \nmin        1.000000                    1.000000        1.000000  ...   \n25%        3.000000                   18.000000        3.000000  ...   \n50%        4.000000                   73.000000        3.000000  ...   \n75%        6.000000                  107.000000        5.000000  ...   \nmax        7.000000                  570.000000        6.000000  ...   \n\n       2nd_Road_Number  Pedestrian_Crossing-Human_Control  \\\ncount     59998.000000                       59998.000000   \nmean        330.956232                           0.006184   \nstd        1185.561831                           0.102529   \nmin          -1.000000                          -1.000000   \n25%           0.000000                           0.000000   \n50%           0.000000                           0.000000   \n75%           0.000000                           0.000000   \nmax        9711.000000                           2.000000   \n\n       Pedestrian_Crossing-Physical_Facilities  Light_Conditions  \\\ncount                             59998.000000      59998.000000   \nmean                                  0.856262          1.902713   \nstd                                   1.896282          1.486875   \nmin                                  -1.000000          1.000000   \n25%                                   0.000000          1.000000   \n50%                                   0.000000          1.000000   \n75%                                   0.000000          4.000000   \nmax                                   8.000000          7.000000   \n\n       Weather_Conditions  Road_Surface_Conditions  \\\ncount        59998.000000             59998.000000   \nmean             1.386846                 1.298377   \nstd              1.267965                 0.541992   \nmin              1.000000                -1.000000   \n25%              1.000000                 1.000000   \n50%              1.000000                 1.000000   \n75%              1.000000                 2.000000   \nmax              9.000000                 5.000000   \n\n       Special_Conditions_at_Site  Carriageway_Hazards  Urban_or_Rural_Area  \\\ncount                59998.000000         59998.000000         59998.000000   \nmean                     0.089236             0.048035             1.185356   \nstd                      0.644405             0.481461             0.389618   \nmin                     -1.000000            -1.000000             1.000000   \n25%                      0.000000             0.000000             1.000000   \n50%                      0.000000             0.000000             1.000000   \n75%                      0.000000             0.000000             1.000000   \nmax                      7.000000             7.000000             3.000000   \n\n       Did_Police_Officer_Attend_Scene_of_Accident  \ncount                                 59998.000000  \nmean                                      1.198573  \nstd                                       0.439712  \nmin                                      -1.000000  \n25%                                       1.000000  \n50%                                       1.000000  \n75%                                       1.000000  \nmax                                       3.000000  \n\n[8 rows x 26 columns]",
      "text/html": "<div>\n<style scoped>\n    .dataframe tbody tr th:only-of-type {\n        vertical-align: middle;\n    }\n\n    .dataframe tbody tr th {\n        vertical-align: top;\n    }\n\n    .dataframe thead th {\n        text-align: right;\n    }\n</style>\n<table border=\"1\" class=\"dataframe\">\n  <thead>\n    <tr style=\"text-align: right;\">\n      <th></th>\n      <th>Accident_Index</th>\n      <th>longitude</th>\n      <th>latitude</th>\n      <th>Police_Force</th>\n      <th>Accident_Severity</th>\n      <th>Number_of_Vehicles</th>\n      <th>Number_of_Casualties</th>\n      <th>Day_of_Week</th>\n      <th>Local_Authority_(District)</th>\n      <th>1st_Road_Class</th>\n      <th>...</th>\n      <th>2nd_Road_Number</th>\n      <th>Pedestrian_Crossing-Human_Control</th>\n      <th>Pedestrian_Crossing-Physical_Facilities</th>\n      <th>Light_Conditions</th>\n      <th>Weather_Conditions</th>\n      <th>Road_Surface_Conditions</th>\n      <th>Special_Conditions_at_Site</th>\n      <th>Carriageway_Hazards</th>\n      <th>Urban_or_Rural_Area</th>\n      <th>Did_Police_Officer_Attend_Scene_of_Accident</th>\n    </tr>\n  </thead>\n  <tbody>\n    <tr>\n      <th>count</th>\n      <td>59998.000000</td>\n      <td>59998.000000</td>\n      <td>59998.000000</td>\n      <td>59998.000000</td>\n      <td>59998.000000</td>\n      <td>59998.000000</td>\n      <td>59998.000000</td>\n      <td>59998.000000</td>\n      <td>59998.000000</td>\n      <td>59998.000000</td>\n      <td>...</td>\n      <td>59998.000000</td>\n      <td>59998.000000</td>\n      <td>59998.000000</td>\n      <td>59998.000000</td>\n      <td>59998.000000</td>\n      <td>59998.000000</td>\n      <td>59998.000000</td>\n      <td>59998.000000</td>\n      <td>59998.000000</td>\n      <td>59998.000000</td>\n    </tr>\n    <tr>\n      <th>mean</th>\n      <td>29999.500000</td>\n      <td>78.098483</td>\n      <td>22.083749</td>\n      <td>4.304360</td>\n      <td>2.855512</td>\n      <td>1.832028</td>\n      <td>1.320761</td>\n      <td>4.124637</td>\n      <td>71.151072</td>\n      <td>3.982183</td>\n      <td>...</td>\n      <td>330.956232</td>\n      <td>0.006184</td>\n      <td>0.856262</td>\n      <td>1.902713</td>\n      <td>1.386846</td>\n      <td>1.298377</td>\n      <td>0.089236</td>\n      <td>0.048035</td>\n      <td>1.185356</td>\n      <td>1.198573</td>\n    </tr>\n    <tr>\n      <th>std</th>\n      <td>17320.075062</td>\n      <td>5.949539</td>\n      <td>5.655470</td>\n      <td>4.569113</td>\n      <td>0.380983</td>\n      <td>0.692804</td>\n      <td>0.762099</td>\n      <td>1.923690</td>\n      <td>63.827188</td>\n      <td>1.360867</td>\n      <td>...</td>\n      <td>1185.561831</td>\n      <td>0.102529</td>\n      <td>1.896282</td>\n      <td>1.486875</td>\n      <td>1.267965</td>\n      <td>0.541992</td>\n      <td>0.644405</td>\n      <td>0.481461</td>\n      <td>0.389618</td>\n      <td>0.439712</td>\n    </tr>\n    <tr>\n      <th>min</th>\n      <td>1.000000</td>\n      <td>69.015103</td>\n      <td>8.864429</td>\n      <td>1.000000</td>\n      <td>1.000000</td>\n      <td>1.000000</td>\n      <td>1.000000</td>\n      <td>1.000000</td>\n      <td>1.000000</td>\n      <td>1.000000</td>\n      <td>...</td>\n      <td>-1.000000</td>\n      <td>-1.000000</td>\n      <td>-1.000000</td>\n      <td>1.000000</td>\n      <td>1.000000</td>\n      <td>-1.000000</td>\n      <td>-1.000000</td>\n      <td>-1.000000</td>\n      <td>1.000000</td>\n      <td>-1.000000</td>\n    </tr>\n    <tr>\n      <th>25%</th>\n      <td>15000.250000</td>\n      <td>73.895816</td>\n      <td>18.555476</td>\n      <td>1.000000</td>\n      <td>3.000000</td>\n      <td>1.000000</td>\n      <td>1.000000</td>\n      <td>3.000000</td>\n      <td>18.000000</td>\n      <td>3.000000</td>\n      <td>...</td>\n      <td>0.000000</td>\n      <td>0.000000</td>\n      <td>0.000000</td>\n      <td>1.000000</td>\n      <td>1.000000</td>\n      <td>1.000000</td>\n      <td>0.000000</td>\n      <td>0.000000</td>\n      <td>1.000000</td>\n      <td>1.000000</td>\n    </tr>\n    <tr>\n      <th>50%</th>\n      <td>29999.500000</td>\n      <td>77.050768</td>\n      <td>22.732800</td>\n      <td>4.000000</td>\n      <td>3.000000</td>\n      <td>2.000000</td>\n      <td>1.000000</td>\n      <td>4.000000</td>\n      <td>73.000000</td>\n      <td>3.000000</td>\n      <td>...</td>\n      <td>0.000000</td>\n      <td>0.000000</td>\n      <td>0.000000</td>\n      <td>1.000000</td>\n      <td>1.000000</td>\n      <td>1.000000</td>\n      <td>0.000000</td>\n      <td>0.000000</td>\n      <td>1.000000</td>\n      <td>1.000000</td>\n    </tr>\n    <tr>\n      <th>75%</th>\n      <td>44998.750000</td>\n      <td>78.544677</td>\n      <td>27.091517</td>\n      <td>6.000000</td>\n      <td>3.000000</td>\n      <td>2.000000</td>\n      <td>1.000000</td>\n      <td>6.000000</td>\n      <td>107.000000</td>\n      <td>5.000000</td>\n      <td>...</td>\n      <td>0.000000</td>\n      <td>0.000000</td>\n      <td>0.000000</td>\n      <td>4.000000</td>\n      <td>1.000000</td>\n      <td>2.000000</td>\n      <td>0.000000</td>\n      <td>0.000000</td>\n      <td>1.000000</td>\n      <td>1.000000</td>\n    </tr>\n    <tr>\n      <th>max</th>\n      <td>59998.000000</td>\n      <td>94.231931</td>\n      <td>31.068800</td>\n      <td>48.000000</td>\n      <td>3.000000</td>\n      <td>18.000000</td>\n      <td>23.000000</td>\n      <td>7.000000</td>\n      <td>570.000000</td>\n      <td>6.000000</td>\n      <td>...</td>\n      <td>9711.000000</td>\n      <td>2.000000</td>\n      <td>8.000000</td>\n      <td>7.000000</td>\n      <td>9.000000</td>\n      <td>5.000000</td>\n      <td>7.000000</td>\n      <td>7.000000</td>\n      <td>3.000000</td>\n      <td>3.000000</td>\n    </tr>\n  </tbody>\n</table>\n<p>8 rows × 26 columns</p>\n</div>"
     },
     "execution_count": 62,
     "metadata": {},
     "output_type": "execute_result"
    }
   ],
   "source": [
    "data.describe()"
   ],
   "metadata": {
    "collapsed": false,
    "ExecuteTime": {
     "end_time": "2024-10-31T15:54:29.550470Z",
     "start_time": "2024-10-31T15:54:26.286671500Z"
    }
   },
   "id": "24ac7e273d6815da"
  },
  {
   "cell_type": "markdown",
   "source": [
    "# Data Cleaning"
   ],
   "metadata": {
    "collapsed": false
   },
   "id": "7bd2073bae5ccfe5"
  },
  {
   "cell_type": "code",
   "execution_count": 63,
   "outputs": [
    {
     "data": {
      "text/plain": "   Police_Force  Accident_Severity  Day_of_Week  1st_Road_Class  \\\n0           1.0                2.0          3.0             3.0   \n1           1.0                3.0          4.0             4.0   \n2           1.0                3.0          5.0             5.0   \n3           1.0                3.0          6.0             3.0   \n4           1.0                3.0          2.0             6.0   \n\n   1st_Road_Number  Road_Type  Speed_limit  Junction_Detail  Junction_Control  \\\n0           3218.0        6.0         30.0              0.0              -1.0   \n1            450.0        3.0         30.0              6.0               2.0   \n2              0.0        6.0         30.0              0.0              -1.0   \n3           3220.0        6.0         30.0              0.0              -1.0   \n4              0.0        6.0         30.0              0.0              -1.0   \n\n   2nd_Road_Class  2nd_Road_Number  Pedestrian_Crossing-Human_Control  \\\n0            -1.0              0.0                                0.0   \n1             5.0              0.0                                0.0   \n2            -1.0              0.0                                0.0   \n3            -1.0              0.0                                0.0   \n4            -1.0              0.0                                0.0   \n\n   Pedestrian_Crossing-Physical_Facilities  Light_Conditions  \\\n0                                      1.0               1.0   \n1                                      5.0               4.0   \n2                                      0.0               4.0   \n3                                      0.0               1.0   \n4                                      0.0               7.0   \n\n   Weather_Conditions  Road_Surface_Conditions  Special_Conditions_at_Site  \\\n0                 2.0                      2.0                         0.0   \n1                 1.0                      1.0                         0.0   \n2                 1.0                      1.0                         0.0   \n3                 1.0                      1.0                         0.0   \n4                 1.0                      2.0                         0.0   \n\n   Urban_or_Rural_Area  hour  \n0                  1.0  17.0  \n1                  1.0  17.0  \n2                  1.0   0.0  \n3                  1.0  10.0  \n4                  1.0  21.0  ",
      "text/html": "<div>\n<style scoped>\n    .dataframe tbody tr th:only-of-type {\n        vertical-align: middle;\n    }\n\n    .dataframe tbody tr th {\n        vertical-align: top;\n    }\n\n    .dataframe thead th {\n        text-align: right;\n    }\n</style>\n<table border=\"1\" class=\"dataframe\">\n  <thead>\n    <tr style=\"text-align: right;\">\n      <th></th>\n      <th>Police_Force</th>\n      <th>Accident_Severity</th>\n      <th>Day_of_Week</th>\n      <th>1st_Road_Class</th>\n      <th>1st_Road_Number</th>\n      <th>Road_Type</th>\n      <th>Speed_limit</th>\n      <th>Junction_Detail</th>\n      <th>Junction_Control</th>\n      <th>2nd_Road_Class</th>\n      <th>2nd_Road_Number</th>\n      <th>Pedestrian_Crossing-Human_Control</th>\n      <th>Pedestrian_Crossing-Physical_Facilities</th>\n      <th>Light_Conditions</th>\n      <th>Weather_Conditions</th>\n      <th>Road_Surface_Conditions</th>\n      <th>Special_Conditions_at_Site</th>\n      <th>Urban_or_Rural_Area</th>\n      <th>hour</th>\n    </tr>\n  </thead>\n  <tbody>\n    <tr>\n      <th>0</th>\n      <td>1.0</td>\n      <td>2.0</td>\n      <td>3.0</td>\n      <td>3.0</td>\n      <td>3218.0</td>\n      <td>6.0</td>\n      <td>30.0</td>\n      <td>0.0</td>\n      <td>-1.0</td>\n      <td>-1.0</td>\n      <td>0.0</td>\n      <td>0.0</td>\n      <td>1.0</td>\n      <td>1.0</td>\n      <td>2.0</td>\n      <td>2.0</td>\n      <td>0.0</td>\n      <td>1.0</td>\n      <td>17.0</td>\n    </tr>\n    <tr>\n      <th>1</th>\n      <td>1.0</td>\n      <td>3.0</td>\n      <td>4.0</td>\n      <td>4.0</td>\n      <td>450.0</td>\n      <td>3.0</td>\n      <td>30.0</td>\n      <td>6.0</td>\n      <td>2.0</td>\n      <td>5.0</td>\n      <td>0.0</td>\n      <td>0.0</td>\n      <td>5.0</td>\n      <td>4.0</td>\n      <td>1.0</td>\n      <td>1.0</td>\n      <td>0.0</td>\n      <td>1.0</td>\n      <td>17.0</td>\n    </tr>\n    <tr>\n      <th>2</th>\n      <td>1.0</td>\n      <td>3.0</td>\n      <td>5.0</td>\n      <td>5.0</td>\n      <td>0.0</td>\n      <td>6.0</td>\n      <td>30.0</td>\n      <td>0.0</td>\n      <td>-1.0</td>\n      <td>-1.0</td>\n      <td>0.0</td>\n      <td>0.0</td>\n      <td>0.0</td>\n      <td>4.0</td>\n      <td>1.0</td>\n      <td>1.0</td>\n      <td>0.0</td>\n      <td>1.0</td>\n      <td>0.0</td>\n    </tr>\n    <tr>\n      <th>3</th>\n      <td>1.0</td>\n      <td>3.0</td>\n      <td>6.0</td>\n      <td>3.0</td>\n      <td>3220.0</td>\n      <td>6.0</td>\n      <td>30.0</td>\n      <td>0.0</td>\n      <td>-1.0</td>\n      <td>-1.0</td>\n      <td>0.0</td>\n      <td>0.0</td>\n      <td>0.0</td>\n      <td>1.0</td>\n      <td>1.0</td>\n      <td>1.0</td>\n      <td>0.0</td>\n      <td>1.0</td>\n      <td>10.0</td>\n    </tr>\n    <tr>\n      <th>4</th>\n      <td>1.0</td>\n      <td>3.0</td>\n      <td>2.0</td>\n      <td>6.0</td>\n      <td>0.0</td>\n      <td>6.0</td>\n      <td>30.0</td>\n      <td>0.0</td>\n      <td>-1.0</td>\n      <td>-1.0</td>\n      <td>0.0</td>\n      <td>0.0</td>\n      <td>0.0</td>\n      <td>7.0</td>\n      <td>1.0</td>\n      <td>2.0</td>\n      <td>0.0</td>\n      <td>1.0</td>\n      <td>21.0</td>\n    </tr>\n  </tbody>\n</table>\n</div>"
     },
     "execution_count": 63,
     "metadata": {},
     "output_type": "execute_result"
    }
   ],
   "source": [
    "data['hour'] = pd.to_datetime(data['Time'], format='%H:%M').dt.hour\n",
    "\n",
    "df = data.drop(\n",
    "    [\"LSOA_of_Accident_Location\",\n",
    "     \"Did_Police_Officer_Attend_Scene_of_Accident\",\n",
    "     \"Local_Authority_(District)\",\n",
    "     \"Local_Authority_(Highway)\",\n",
    "     \"Number_of_Casualties\",\n",
    "     \"Number_of_Vehicles\",\n",
    "     \"Date\",\n",
    "     \"Accident_Index\",\n",
    "     \"Time\",\n",
    "     \"Carriageway_Hazards\",\n",
    "     \"longitude\",\n",
    "     \"latitude\"\n",
    "     ], axis=1)\n",
    "\n",
    "df = df.dropna()\n",
    "\n",
    "df.head()"
   ],
   "metadata": {
    "collapsed": false,
    "ExecuteTime": {
     "end_time": "2024-10-31T15:54:30.052121300Z",
     "start_time": "2024-10-31T15:54:29.537861900Z"
    }
   },
   "id": "162b02878b4833af"
  },
  {
   "cell_type": "markdown",
   "source": [
    "# Splitting data into train and test"
   ],
   "metadata": {
    "collapsed": false
   },
   "id": "68417c067ff54355"
  },
  {
   "cell_type": "code",
   "execution_count": 64,
   "outputs": [
    {
     "data": {
      "text/plain": "       Police_Force  Day_of_Week  1st_Road_Class  1st_Road_Number  Road_Type  \\\n50106           7.0          7.0             6.0              0.0        6.0   \n9165            1.0          2.0             3.0            117.0        6.0   \n21394           1.0          1.0             3.0            308.0        6.0   \n54512          10.0          5.0             6.0           6701.0        6.0   \n55434          10.0          4.0             4.0           1321.0        6.0   \n\n       Speed_limit  Junction_Detail  Junction_Control  2nd_Road_Class  \\\n50106         60.0              0.0              -1.0            -1.0   \n9165          30.0              6.0               2.0             3.0   \n21394         30.0              0.0              -1.0            -1.0   \n54512         30.0              3.0               4.0             6.0   \n55434         40.0              0.0              -1.0            -1.0   \n\n       2nd_Road_Number  Pedestrian_Crossing-Human_Control  \\\n50106              0.0                                0.0   \n9165             117.0                                0.0   \n21394              0.0                                0.0   \n54512           6701.0                                0.0   \n55434              0.0                                0.0   \n\n       Pedestrian_Crossing-Physical_Facilities  Light_Conditions  \\\n50106                                      0.0               6.0   \n9165                                       5.0               1.0   \n21394                                      0.0               1.0   \n54512                                      0.0               1.0   \n55434                                      0.0               1.0   \n\n       Weather_Conditions  Road_Surface_Conditions  \\\n50106                 1.0                      1.0   \n9165                  2.0                      2.0   \n21394                 1.0                      1.0   \n54512                 1.0                      2.0   \n55434                 1.0                      1.0   \n\n       Special_Conditions_at_Site  Urban_or_Rural_Area  hour  \n50106                         0.0                  2.0  23.0  \n9165                          0.0                  1.0  15.0  \n21394                         0.0                  1.0  13.0  \n54512                         0.0                  1.0   9.0  \n55434                         0.0                  2.0  18.0  ",
      "text/html": "<div>\n<style scoped>\n    .dataframe tbody tr th:only-of-type {\n        vertical-align: middle;\n    }\n\n    .dataframe tbody tr th {\n        vertical-align: top;\n    }\n\n    .dataframe thead th {\n        text-align: right;\n    }\n</style>\n<table border=\"1\" class=\"dataframe\">\n  <thead>\n    <tr style=\"text-align: right;\">\n      <th></th>\n      <th>Police_Force</th>\n      <th>Day_of_Week</th>\n      <th>1st_Road_Class</th>\n      <th>1st_Road_Number</th>\n      <th>Road_Type</th>\n      <th>Speed_limit</th>\n      <th>Junction_Detail</th>\n      <th>Junction_Control</th>\n      <th>2nd_Road_Class</th>\n      <th>2nd_Road_Number</th>\n      <th>Pedestrian_Crossing-Human_Control</th>\n      <th>Pedestrian_Crossing-Physical_Facilities</th>\n      <th>Light_Conditions</th>\n      <th>Weather_Conditions</th>\n      <th>Road_Surface_Conditions</th>\n      <th>Special_Conditions_at_Site</th>\n      <th>Urban_or_Rural_Area</th>\n      <th>hour</th>\n    </tr>\n  </thead>\n  <tbody>\n    <tr>\n      <th>50106</th>\n      <td>7.0</td>\n      <td>7.0</td>\n      <td>6.0</td>\n      <td>0.0</td>\n      <td>6.0</td>\n      <td>60.0</td>\n      <td>0.0</td>\n      <td>-1.0</td>\n      <td>-1.0</td>\n      <td>0.0</td>\n      <td>0.0</td>\n      <td>0.0</td>\n      <td>6.0</td>\n      <td>1.0</td>\n      <td>1.0</td>\n      <td>0.0</td>\n      <td>2.0</td>\n      <td>23.0</td>\n    </tr>\n    <tr>\n      <th>9165</th>\n      <td>1.0</td>\n      <td>2.0</td>\n      <td>3.0</td>\n      <td>117.0</td>\n      <td>6.0</td>\n      <td>30.0</td>\n      <td>6.0</td>\n      <td>2.0</td>\n      <td>3.0</td>\n      <td>117.0</td>\n      <td>0.0</td>\n      <td>5.0</td>\n      <td>1.0</td>\n      <td>2.0</td>\n      <td>2.0</td>\n      <td>0.0</td>\n      <td>1.0</td>\n      <td>15.0</td>\n    </tr>\n    <tr>\n      <th>21394</th>\n      <td>1.0</td>\n      <td>1.0</td>\n      <td>3.0</td>\n      <td>308.0</td>\n      <td>6.0</td>\n      <td>30.0</td>\n      <td>0.0</td>\n      <td>-1.0</td>\n      <td>-1.0</td>\n      <td>0.0</td>\n      <td>0.0</td>\n      <td>0.0</td>\n      <td>1.0</td>\n      <td>1.0</td>\n      <td>1.0</td>\n      <td>0.0</td>\n      <td>1.0</td>\n      <td>13.0</td>\n    </tr>\n    <tr>\n      <th>54512</th>\n      <td>10.0</td>\n      <td>5.0</td>\n      <td>6.0</td>\n      <td>6701.0</td>\n      <td>6.0</td>\n      <td>30.0</td>\n      <td>3.0</td>\n      <td>4.0</td>\n      <td>6.0</td>\n      <td>6701.0</td>\n      <td>0.0</td>\n      <td>0.0</td>\n      <td>1.0</td>\n      <td>1.0</td>\n      <td>2.0</td>\n      <td>0.0</td>\n      <td>1.0</td>\n      <td>9.0</td>\n    </tr>\n    <tr>\n      <th>55434</th>\n      <td>10.0</td>\n      <td>4.0</td>\n      <td>4.0</td>\n      <td>1321.0</td>\n      <td>6.0</td>\n      <td>40.0</td>\n      <td>0.0</td>\n      <td>-1.0</td>\n      <td>-1.0</td>\n      <td>0.0</td>\n      <td>0.0</td>\n      <td>0.0</td>\n      <td>1.0</td>\n      <td>1.0</td>\n      <td>1.0</td>\n      <td>0.0</td>\n      <td>2.0</td>\n      <td>18.0</td>\n    </tr>\n  </tbody>\n</table>\n</div>"
     },
     "execution_count": 64,
     "metadata": {},
     "output_type": "execute_result"
    }
   ],
   "source": [
    "from sklearn.model_selection import train_test_split\n",
    "\n",
    "# Define X and Y\n",
    "X = df.drop(\"Accident_Severity\", axis=1)\n",
    "Y = df[\"Accident_Severity\"]\n",
    "\n",
    "# Split the data\n",
    "X_train, X_test, y_train, y_test = train_test_split(X, Y, test_size=0.2, random_state=42)\n",
    "\n",
    "X_train.head()"
   ],
   "metadata": {
    "collapsed": false,
    "ExecuteTime": {
     "end_time": "2024-10-31T15:54:30.263963400Z",
     "start_time": "2024-10-31T15:54:30.049975800Z"
    }
   },
   "id": "7124a9878c0eab4d"
  },
  {
   "cell_type": "markdown",
   "source": [
    "# Random Forest Classifier"
   ],
   "metadata": {
    "collapsed": false
   },
   "id": "f5d777395481a89b"
  },
  {
   "cell_type": "code",
   "execution_count": 65,
   "outputs": [
    {
     "name": "stdout",
     "output_type": "stream",
     "text": [
      "Accuracy: 0.8514166666666667\n",
      "\n",
      "Classification Report:\n",
      "               precision    recall  f1-score   support\n",
      "\n",
      "         1.0       0.00      0.00      0.00       141\n",
      "         2.0       0.18      0.04      0.06      1457\n",
      "         3.0       0.87      0.98      0.92     10402\n",
      "\n",
      "    accuracy                           0.85     12000\n",
      "   macro avg       0.35      0.34      0.33     12000\n",
      "weighted avg       0.77      0.85      0.80     12000\n"
     ]
    }
   ],
   "source": [
    "from sklearn.ensemble import RandomForestClassifier\n",
    "from sklearn.metrics import accuracy_score, classification_report\n",
    "\n",
    "clf = RandomForestClassifier()\n",
    "clf.fit(X_train, y_train)\n",
    "\n",
    "y_pred = clf.predict(X_test)\n",
    "\n",
    "accuracy = accuracy_score(y_test, y_pred)\n",
    "report = classification_report(y_test, y_pred)\n",
    "\n",
    "print(\"Accuracy:\", accuracy)\n",
    "print(\"\\nClassification Report:\\n\", report)"
   ],
   "metadata": {
    "collapsed": false,
    "ExecuteTime": {
     "end_time": "2024-10-31T15:54:42.248614700Z",
     "start_time": "2024-10-31T15:54:30.168027600Z"
    }
   },
   "id": "f460486e13b0b538"
  },
  {
   "cell_type": "markdown",
   "source": [
    "# Random forest classifier with balanced values"
   ],
   "metadata": {
    "collapsed": false
   },
   "id": "c60e7df3047c0bbc"
  },
  {
   "cell_type": "code",
   "execution_count": 66,
   "outputs": [
    {
     "name": "stdout",
     "output_type": "stream",
     "text": [
      "Accident_Severity\n",
      "3.0    51974\n",
      "2.0     7377\n",
      "1.0      646\n",
      "Name: count, dtype: int64\n"
     ]
    }
   ],
   "source": [
    "class_counts = df[\"Accident_Severity\"].value_counts()\n",
    "\n",
    "class_1_count = class_counts[1]\n",
    "\n",
    "# Separate the data by class\n",
    "class_1 = df[df[\"Accident_Severity\"] == 1]\n",
    "class_2 = df[df[\"Accident_Severity\"] == 2]\n",
    "class_3 = df[df[\"Accident_Severity\"] == 3]\n",
    "\n",
    "# Undersample classes 2 and 3 to match the count of class 1\n",
    "class_2 = class_2.sample(n=class_1_count, random_state=42)\n",
    "class_3 = class_3.sample(n=class_1_count, random_state=42)\n",
    "\n",
    "# Combine the datasets back together\n",
    "df_balanced = pd.concat([class_1, class_2, class_3])\n",
    "\n",
    "# Shuffle the resulting dataset\n",
    "df_balanced = df_balanced.sample(frac=1, random_state=42).reset_index(drop=True)\n",
    "\n",
    "# Verify the class balance\n",
    "print(df[\"Accident_Severity\"].value_counts())"
   ],
   "metadata": {
    "collapsed": false,
    "ExecuteTime": {
     "end_time": "2024-10-31T15:54:42.363895800Z",
     "start_time": "2024-10-31T15:54:42.248614700Z"
    }
   },
   "id": "2362988b2f15f350"
  },
  {
   "cell_type": "code",
   "execution_count": 67,
   "outputs": [
    {
     "data": {
      "text/plain": "      Police_Force  Day_of_Week  1st_Road_Class  1st_Road_Number  Road_Type  \\\n864           10.0          5.0             6.0            326.0        6.0   \n1674          10.0          4.0             3.0              1.0        7.0   \n1628          12.0          6.0             3.0             61.0        6.0   \n752            1.0          7.0             6.0              0.0        6.0   \n598           10.0          7.0             3.0            184.0        6.0   \n\n      Speed_limit  Junction_Detail  Junction_Control  2nd_Road_Class  \\\n864          30.0              0.0              -1.0            -1.0   \n1674         60.0              0.0              -1.0            -1.0   \n1628         60.0              0.0              -1.0            -1.0   \n752          30.0              3.0               4.0             6.0   \n598          30.0              0.0              -1.0            -1.0   \n\n      2nd_Road_Number  Pedestrian_Crossing-Human_Control  \\\n864               0.0                                0.0   \n1674              0.0                                0.0   \n1628              0.0                                0.0   \n752               0.0                                0.0   \n598               0.0                                0.0   \n\n      Pedestrian_Crossing-Physical_Facilities  Light_Conditions  \\\n864                                       0.0               4.0   \n1674                                      0.0               1.0   \n1628                                      0.0               6.0   \n752                                       0.0               1.0   \n598                                       0.0               1.0   \n\n      Weather_Conditions  Road_Surface_Conditions  Special_Conditions_at_Site  \\\n864                  1.0                      1.0                         0.0   \n1674                 1.0                      1.0                         0.0   \n1628                 1.0                      1.0                         0.0   \n752                  1.0                      1.0                         0.0   \n598                  1.0                      1.0                         0.0   \n\n      Urban_or_Rural_Area  hour  \n864                   1.0   7.0  \n1674                  2.0  16.0  \n1628                  2.0  22.0  \n752                   1.0  10.0  \n598                   1.0  13.0  ",
      "text/html": "<div>\n<style scoped>\n    .dataframe tbody tr th:only-of-type {\n        vertical-align: middle;\n    }\n\n    .dataframe tbody tr th {\n        vertical-align: top;\n    }\n\n    .dataframe thead th {\n        text-align: right;\n    }\n</style>\n<table border=\"1\" class=\"dataframe\">\n  <thead>\n    <tr style=\"text-align: right;\">\n      <th></th>\n      <th>Police_Force</th>\n      <th>Day_of_Week</th>\n      <th>1st_Road_Class</th>\n      <th>1st_Road_Number</th>\n      <th>Road_Type</th>\n      <th>Speed_limit</th>\n      <th>Junction_Detail</th>\n      <th>Junction_Control</th>\n      <th>2nd_Road_Class</th>\n      <th>2nd_Road_Number</th>\n      <th>Pedestrian_Crossing-Human_Control</th>\n      <th>Pedestrian_Crossing-Physical_Facilities</th>\n      <th>Light_Conditions</th>\n      <th>Weather_Conditions</th>\n      <th>Road_Surface_Conditions</th>\n      <th>Special_Conditions_at_Site</th>\n      <th>Urban_or_Rural_Area</th>\n      <th>hour</th>\n    </tr>\n  </thead>\n  <tbody>\n    <tr>\n      <th>864</th>\n      <td>10.0</td>\n      <td>5.0</td>\n      <td>6.0</td>\n      <td>326.0</td>\n      <td>6.0</td>\n      <td>30.0</td>\n      <td>0.0</td>\n      <td>-1.0</td>\n      <td>-1.0</td>\n      <td>0.0</td>\n      <td>0.0</td>\n      <td>0.0</td>\n      <td>4.0</td>\n      <td>1.0</td>\n      <td>1.0</td>\n      <td>0.0</td>\n      <td>1.0</td>\n      <td>7.0</td>\n    </tr>\n    <tr>\n      <th>1674</th>\n      <td>10.0</td>\n      <td>4.0</td>\n      <td>3.0</td>\n      <td>1.0</td>\n      <td>7.0</td>\n      <td>60.0</td>\n      <td>0.0</td>\n      <td>-1.0</td>\n      <td>-1.0</td>\n      <td>0.0</td>\n      <td>0.0</td>\n      <td>0.0</td>\n      <td>1.0</td>\n      <td>1.0</td>\n      <td>1.0</td>\n      <td>0.0</td>\n      <td>2.0</td>\n      <td>16.0</td>\n    </tr>\n    <tr>\n      <th>1628</th>\n      <td>12.0</td>\n      <td>6.0</td>\n      <td>3.0</td>\n      <td>61.0</td>\n      <td>6.0</td>\n      <td>60.0</td>\n      <td>0.0</td>\n      <td>-1.0</td>\n      <td>-1.0</td>\n      <td>0.0</td>\n      <td>0.0</td>\n      <td>0.0</td>\n      <td>6.0</td>\n      <td>1.0</td>\n      <td>1.0</td>\n      <td>0.0</td>\n      <td>2.0</td>\n      <td>22.0</td>\n    </tr>\n    <tr>\n      <th>752</th>\n      <td>1.0</td>\n      <td>7.0</td>\n      <td>6.0</td>\n      <td>0.0</td>\n      <td>6.0</td>\n      <td>30.0</td>\n      <td>3.0</td>\n      <td>4.0</td>\n      <td>6.0</td>\n      <td>0.0</td>\n      <td>0.0</td>\n      <td>0.0</td>\n      <td>1.0</td>\n      <td>1.0</td>\n      <td>1.0</td>\n      <td>0.0</td>\n      <td>1.0</td>\n      <td>10.0</td>\n    </tr>\n    <tr>\n      <th>598</th>\n      <td>10.0</td>\n      <td>7.0</td>\n      <td>3.0</td>\n      <td>184.0</td>\n      <td>6.0</td>\n      <td>30.0</td>\n      <td>0.0</td>\n      <td>-1.0</td>\n      <td>-1.0</td>\n      <td>0.0</td>\n      <td>0.0</td>\n      <td>0.0</td>\n      <td>1.0</td>\n      <td>1.0</td>\n      <td>1.0</td>\n      <td>0.0</td>\n      <td>1.0</td>\n      <td>13.0</td>\n    </tr>\n  </tbody>\n</table>\n</div>"
     },
     "execution_count": 67,
     "metadata": {},
     "output_type": "execute_result"
    }
   ],
   "source": [
    "from sklearn.model_selection import train_test_split\n",
    "\n",
    "# Define X and Y\n",
    "Xb = df_balanced.drop(\"Accident_Severity\", axis=1)\n",
    "Yb = df_balanced[\"Accident_Severity\"]\n",
    "\n",
    "# Split the data\n",
    "Xb_train, Xb_test, yb_train, yb_test = train_test_split(Xb, Yb, test_size=0.2, random_state=42)\n",
    "\n",
    "Xb_train.head()"
   ],
   "metadata": {
    "collapsed": false,
    "ExecuteTime": {
     "end_time": "2024-10-31T15:54:42.365518Z",
     "start_time": "2024-10-31T15:54:42.311627200Z"
    }
   },
   "id": "47e262eb788db2a7"
  },
  {
   "cell_type": "code",
   "execution_count": 68,
   "outputs": [
    {
     "name": "stdout",
     "output_type": "stream",
     "text": [
      "Accuracy: 0.45103092783505155\n",
      "\n",
      "Classification Report:\n",
      "               precision    recall  f1-score   support\n",
      "\n",
      "         1.0       0.52      0.45      0.48       150\n",
      "         2.0       0.32      0.35      0.33       107\n",
      "         3.0       0.50      0.54      0.52       131\n",
      "\n",
      "    accuracy                           0.45       388\n",
      "   macro avg       0.44      0.44      0.44       388\n",
      "weighted avg       0.46      0.45      0.45       388\n"
     ]
    }
   ],
   "source": [
    "clf = RandomForestClassifier()\n",
    "clf.fit(Xb_train, yb_train)\n",
    "\n",
    "yb_pred = clf.predict(Xb_test)\n",
    "\n",
    "accuracy = accuracy_score(yb_test, yb_pred)\n",
    "report = classification_report(yb_test, yb_pred)\n",
    "\n",
    "print(\"Accuracy:\", accuracy)\n",
    "print(\"\\nClassification Report:\\n\", report)"
   ],
   "metadata": {
    "collapsed": false,
    "ExecuteTime": {
     "end_time": "2024-10-31T15:54:43.218723100Z",
     "start_time": "2024-10-31T15:54:42.407283800Z"
    }
   },
   "id": "bcc53516639d959a"
  },
  {
   "cell_type": "markdown",
   "source": [
    "# \"if\" method"
   ],
   "metadata": {
    "collapsed": false
   },
   "id": "a26e8aa4d619d456"
  },
  {
   "cell_type": "code",
   "execution_count": 69,
   "outputs": [
    {
     "data": {
      "text/plain": "   Police_Force  Accident_Severity  Day_of_Week  1st_Road_Class  \\\n0           0.0                0.5     0.333333             0.4   \n1           0.0                1.0     0.500000             0.6   \n2           0.0                1.0     0.666667             0.8   \n3           0.0                1.0     0.833333             0.4   \n4           0.0                1.0     0.166667             1.0   \n\n   1st_Road_Number  Road_Type  Speed_limit  Junction_Detail  Junction_Control  \\\n0         0.321832      0.625     0.333333              0.1               0.0   \n1         0.045005      0.250     0.333333              0.7               0.6   \n2         0.000000      0.625     0.333333              0.1               0.0   \n3         0.322032      0.625     0.333333              0.1               0.0   \n4         0.000000      0.625     0.333333              0.1               0.0   \n\n   2nd_Road_Class  2nd_Road_Number  Pedestrian_Crossing-Human_Control  \\\n0        0.000000         0.000103                           0.333333   \n1        0.857143         0.000103                           0.333333   \n2        0.000000         0.000103                           0.333333   \n3        0.000000         0.000103                           0.333333   \n4        0.000000         0.000103                           0.333333   \n\n   Pedestrian_Crossing-Physical_Facilities  Light_Conditions  \\\n0                                 0.222222               0.0   \n1                                 0.666667               0.5   \n2                                 0.111111               0.5   \n3                                 0.111111               0.0   \n4                                 0.111111               1.0   \n\n   Weather_Conditions  Road_Surface_Conditions  Special_Conditions_at_Site  \\\n0               0.125                 0.500000                       0.125   \n1               0.000                 0.333333                       0.125   \n2               0.000                 0.333333                       0.125   \n3               0.000                 0.333333                       0.125   \n4               0.000                 0.500000                       0.125   \n\n   Urban_or_Rural_Area      hour  \n0                  0.0  0.739130  \n1                  0.0  0.739130  \n2                  0.0  0.000000  \n3                  0.0  0.434783  \n4                  0.0  0.913043  ",
      "text/html": "<div>\n<style scoped>\n    .dataframe tbody tr th:only-of-type {\n        vertical-align: middle;\n    }\n\n    .dataframe tbody tr th {\n        vertical-align: top;\n    }\n\n    .dataframe thead th {\n        text-align: right;\n    }\n</style>\n<table border=\"1\" class=\"dataframe\">\n  <thead>\n    <tr style=\"text-align: right;\">\n      <th></th>\n      <th>Police_Force</th>\n      <th>Accident_Severity</th>\n      <th>Day_of_Week</th>\n      <th>1st_Road_Class</th>\n      <th>1st_Road_Number</th>\n      <th>Road_Type</th>\n      <th>Speed_limit</th>\n      <th>Junction_Detail</th>\n      <th>Junction_Control</th>\n      <th>2nd_Road_Class</th>\n      <th>2nd_Road_Number</th>\n      <th>Pedestrian_Crossing-Human_Control</th>\n      <th>Pedestrian_Crossing-Physical_Facilities</th>\n      <th>Light_Conditions</th>\n      <th>Weather_Conditions</th>\n      <th>Road_Surface_Conditions</th>\n      <th>Special_Conditions_at_Site</th>\n      <th>Urban_or_Rural_Area</th>\n      <th>hour</th>\n    </tr>\n  </thead>\n  <tbody>\n    <tr>\n      <th>0</th>\n      <td>0.0</td>\n      <td>0.5</td>\n      <td>0.333333</td>\n      <td>0.4</td>\n      <td>0.321832</td>\n      <td>0.625</td>\n      <td>0.333333</td>\n      <td>0.1</td>\n      <td>0.0</td>\n      <td>0.000000</td>\n      <td>0.000103</td>\n      <td>0.333333</td>\n      <td>0.222222</td>\n      <td>0.0</td>\n      <td>0.125</td>\n      <td>0.500000</td>\n      <td>0.125</td>\n      <td>0.0</td>\n      <td>0.739130</td>\n    </tr>\n    <tr>\n      <th>1</th>\n      <td>0.0</td>\n      <td>1.0</td>\n      <td>0.500000</td>\n      <td>0.6</td>\n      <td>0.045005</td>\n      <td>0.250</td>\n      <td>0.333333</td>\n      <td>0.7</td>\n      <td>0.6</td>\n      <td>0.857143</td>\n      <td>0.000103</td>\n      <td>0.333333</td>\n      <td>0.666667</td>\n      <td>0.5</td>\n      <td>0.000</td>\n      <td>0.333333</td>\n      <td>0.125</td>\n      <td>0.0</td>\n      <td>0.739130</td>\n    </tr>\n    <tr>\n      <th>2</th>\n      <td>0.0</td>\n      <td>1.0</td>\n      <td>0.666667</td>\n      <td>0.8</td>\n      <td>0.000000</td>\n      <td>0.625</td>\n      <td>0.333333</td>\n      <td>0.1</td>\n      <td>0.0</td>\n      <td>0.000000</td>\n      <td>0.000103</td>\n      <td>0.333333</td>\n      <td>0.111111</td>\n      <td>0.5</td>\n      <td>0.000</td>\n      <td>0.333333</td>\n      <td>0.125</td>\n      <td>0.0</td>\n      <td>0.000000</td>\n    </tr>\n    <tr>\n      <th>3</th>\n      <td>0.0</td>\n      <td>1.0</td>\n      <td>0.833333</td>\n      <td>0.4</td>\n      <td>0.322032</td>\n      <td>0.625</td>\n      <td>0.333333</td>\n      <td>0.1</td>\n      <td>0.0</td>\n      <td>0.000000</td>\n      <td>0.000103</td>\n      <td>0.333333</td>\n      <td>0.111111</td>\n      <td>0.0</td>\n      <td>0.000</td>\n      <td>0.333333</td>\n      <td>0.125</td>\n      <td>0.0</td>\n      <td>0.434783</td>\n    </tr>\n    <tr>\n      <th>4</th>\n      <td>0.0</td>\n      <td>1.0</td>\n      <td>0.166667</td>\n      <td>1.0</td>\n      <td>0.000000</td>\n      <td>0.625</td>\n      <td>0.333333</td>\n      <td>0.1</td>\n      <td>0.0</td>\n      <td>0.000000</td>\n      <td>0.000103</td>\n      <td>0.333333</td>\n      <td>0.111111</td>\n      <td>1.0</td>\n      <td>0.000</td>\n      <td>0.500000</td>\n      <td>0.125</td>\n      <td>0.0</td>\n      <td>0.913043</td>\n    </tr>\n  </tbody>\n</table>\n</div>"
     },
     "execution_count": 69,
     "metadata": {},
     "output_type": "execute_result"
    }
   ],
   "source": [
    "from sklearn.preprocessing import MinMaxScaler\n",
    "\n",
    "# we normalize all columns to simplify the use of a point system\n",
    "\n",
    "scaler = MinMaxScaler()\n",
    "df_normalized = pd.DataFrame(scaler.fit_transform(df), columns=df.columns)\n",
    "\n",
    "df_normalized.head()"
   ],
   "metadata": {
    "collapsed": false,
    "ExecuteTime": {
     "end_time": "2024-10-31T15:54:43.337345700Z",
     "start_time": "2024-10-31T15:54:43.207014900Z"
    }
   },
   "id": "aec03d09a7fb2195"
  },
  {
   "cell_type": "code",
   "execution_count": 70,
   "outputs": [],
   "source": [
    "# we split the new dataset\n",
    "\n",
    "# Define X and Y\n",
    "X2 = df_normalized.drop(\"Accident_Severity\", axis=1)\n",
    "Y2 = df[[\"Accident_Severity\"]]"
   ],
   "metadata": {
    "collapsed": false,
    "ExecuteTime": {
     "end_time": "2024-10-31T15:54:43.338685600Z",
     "start_time": "2024-10-31T15:54:43.274617400Z"
    }
   },
   "id": "ea00c64dfb629cb7"
  },
  {
   "cell_type": "code",
   "execution_count": 71,
   "outputs": [],
   "source": [
    "def rule_based_classifier(row):\n",
    "    \n",
    "    score = 0\n",
    "    \n",
    "    if row['Speed_limit'] > 0.5: # is the speed limit high ?\n",
    "        score += 1\n",
    "    \n",
    "    if row['Road_Type'] > 0.5: # is it a bad road type ?\n",
    "        score += 1\n",
    "    \n",
    "    if row['Junction_Control'] > 0.5: # is the junction controlled ?\n",
    "        score += 1\n",
    "        \n",
    "    if row['Pedestrian_Crossing-Physical_Facilities'] > 0.2: # is there a lot of crosswalk ?\n",
    "        score += 1\n",
    "    \n",
    "    if row['Weather_Conditions'] > 0.1: # are the weather conditions bad ?\n",
    "        score += 1\n",
    "        \n",
    "    if row['Urban_or_Rural_Area'] < 0.5: # is the area situated in a city ?\n",
    "        score += 1\n",
    "    \n",
    "    return min(score, 3)"
   ],
   "metadata": {
    "collapsed": false,
    "ExecuteTime": {
     "end_time": "2024-10-31T15:54:43.338685600Z",
     "start_time": "2024-10-31T15:54:43.295476800Z"
    }
   },
   "id": "6ae4d399a6581a68"
  },
  {
   "cell_type": "code",
   "execution_count": 72,
   "outputs": [
    {
     "name": "stdout",
     "output_type": "stream",
     "text": [
      "Accuracy: 0.5934296714835742\n",
      "\n",
      "Classification Report:\n",
      "               precision    recall  f1-score   support\n",
      "\n",
      "         0.0       0.00      0.00      0.00         0\n",
      "         1.0       0.02      0.11      0.03       646\n",
      "         2.0       0.14      0.34      0.20      7377\n",
      "         3.0       0.88      0.64      0.74     51974\n",
      "\n",
      "    accuracy                           0.59     59997\n",
      "   macro avg       0.26      0.27      0.24     59997\n",
      "weighted avg       0.78      0.59      0.66     59997\n"
     ]
    },
    {
     "name": "stderr",
     "output_type": "stream",
     "text": [
      "C:\\Users\\ronan\\OneDrive\\Documents\\Polytech\\ERASMUS\\comput intelli\\mini proj 1\\venv\\bin\\python\\Lib\\site-packages\\sklearn\\metrics\\_classification.py:1531: UndefinedMetricWarning: Recall is ill-defined and being set to 0.0 in labels with no true samples. Use `zero_division` parameter to control this behavior.\n",
      "  _warn_prf(average, modifier, f\"{metric.capitalize()} is\", len(result))\n",
      "C:\\Users\\ronan\\OneDrive\\Documents\\Polytech\\ERASMUS\\comput intelli\\mini proj 1\\venv\\bin\\python\\Lib\\site-packages\\sklearn\\metrics\\_classification.py:1531: UndefinedMetricWarning: Recall is ill-defined and being set to 0.0 in labels with no true samples. Use `zero_division` parameter to control this behavior.\n",
      "  _warn_prf(average, modifier, f\"{metric.capitalize()} is\", len(result))\n",
      "C:\\Users\\ronan\\OneDrive\\Documents\\Polytech\\ERASMUS\\comput intelli\\mini proj 1\\venv\\bin\\python\\Lib\\site-packages\\sklearn\\metrics\\_classification.py:1531: UndefinedMetricWarning: Recall is ill-defined and being set to 0.0 in labels with no true samples. Use `zero_division` parameter to control this behavior.\n",
      "  _warn_prf(average, modifier, f\"{metric.capitalize()} is\", len(result))\n"
     ]
    }
   ],
   "source": [
    "X2['Predicted Severity'] = X2.apply(rule_based_classifier, axis=1)\n",
    "\n",
    "accuracy2 = accuracy_score(Y2[\"Accident_Severity\"], X2[\"Predicted Severity\"])\n",
    "report2 = classification_report(Y2[\"Accident_Severity\"], X2[\"Predicted Severity\"])\n",
    "\n",
    "print(\"Accuracy:\", accuracy2)\n",
    "print(\"\\nClassification Report:\\n\", report2)"
   ],
   "metadata": {
    "collapsed": false,
    "ExecuteTime": {
     "end_time": "2024-10-31T15:54:45.420672400Z",
     "start_time": "2024-10-31T15:54:43.392176300Z"
    }
   },
   "id": "b94001f71024e5d5"
  },
  {
   "cell_type": "code",
   "execution_count": 72,
   "outputs": [],
   "source": [],
   "metadata": {
    "collapsed": false,
    "ExecuteTime": {
     "end_time": "2024-10-31T15:54:45.444886200Z",
     "start_time": "2024-10-31T15:54:45.421600200Z"
    }
   },
   "id": "739b17e44726ff7a"
  }
 ],
 "metadata": {
  "kernelspec": {
   "display_name": "Python 3",
   "language": "python",
   "name": "python3"
  },
  "language_info": {
   "codemirror_mode": {
    "name": "ipython",
    "version": 2
   },
   "file_extension": ".py",
   "mimetype": "text/x-python",
   "name": "python",
   "nbconvert_exporter": "python",
   "pygments_lexer": "ipython2",
   "version": "2.7.6"
  }
 },
 "nbformat": 4,
 "nbformat_minor": 5
}
